{
 "cells": [
  {
   "cell_type": "code",
   "execution_count": 35,
   "metadata": {},
   "outputs": [
    {
     "ename": "SyntaxError",
     "evalue": "invalid syntax (<ipython-input-35-b0f0d7d92a16>, line 15)",
     "output_type": "error",
     "traceback": [
      "\u001b[1;36m  File \u001b[1;32m\"<ipython-input-35-b0f0d7d92a16>\"\u001b[1;36m, line \u001b[1;32m15\u001b[0m\n\u001b[1;33m    elif dicPlayer[yourChoise]==3 && mora == 1\u001b[0m\n\u001b[1;37m                                   ^\u001b[0m\n\u001b[1;31mSyntaxError\u001b[0m\u001b[1;31m:\u001b[0m invalid syntax\n"
     ]
    }
   ],
   "source": [
    "from random import random\n",
    "print(\"猜拳大賽開始!\")\n",
    "print(\"三戰兩勝制\")\n",
    "for i in range(3): \n",
    "    while true: \n",
    "        print(\"輸入剪刀石頭布三種其中一種\")\n",
    "        mora = int(random()*3)+1\n",
    "        dic = {1: \"剪刀\",2: \"石頭\",3: \"布\"}\n",
    "        dicPlayer = {\"剪刀\": 1, \"石頭\": 2, \"布\": 3, }\n",
    "        yourChoise = input(\"請輸入剪刀石頭或布!!\")\n",
    "        print(dic[mora])\n",
    "        if dicPlayer[yourChoise] == mora :\n",
    "            print(\"此回平手\")\n",
    "            break\n",
    "        elif dicPlayer[yourChoise]==3 & mora == 1\n",
    "            print(\"你輸了\")\n",
    "            break\n",
    "        elif dicPlayer[yourChoise]==1 & mora == 3\n",
    "            print(\"你贏了\")\n",
    "            break\n",
    "        elif dicPlayer[yourChoise] > mora :\n",
    "            print(\"你贏了\")\n",
    "            break\n",
    "        else \n",
    "            print(\"你輸了\")\n",
    "            break\n",
    "            \n",
    "\n"
   ]
  },
  {
   "cell_type": "code",
   "execution_count": 28,
   "metadata": {},
   "outputs": [
    {
     "name": "stdout",
     "output_type": "stream",
     "text": [
      "3\n"
     ]
    }
   ],
   "source": [
    "print(int(random()*3)+1)"
   ]
  },
  {
   "cell_type": "code",
   "execution_count": null,
   "metadata": {},
   "outputs": [],
   "source": []
  },
  {
   "cell_type": "code",
   "execution_count": null,
   "metadata": {},
   "outputs": [],
   "source": []
  }
 ],
 "metadata": {
  "kernelspec": {
   "display_name": "Python 3",
   "language": "python",
   "name": "python3"
  },
  "language_info": {
   "codemirror_mode": {
    "name": "ipython",
    "version": 3
   },
   "file_extension": ".py",
   "mimetype": "text/x-python",
   "name": "python",
   "nbconvert_exporter": "python",
   "pygments_lexer": "ipython3",
   "version": "3.7.4"
  }
 },
 "nbformat": 4,
 "nbformat_minor": 2
}
