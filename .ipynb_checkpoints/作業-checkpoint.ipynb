{
 "cells": [
  {
   "cell_type": "code",
   "execution_count": 3,
   "metadata": {},
   "outputs": [
    {
     "name": "stdout",
     "output_type": "stream",
     "text": [
      "猜拳大賽開始\n",
      "輸入剪刀石頭布三種其中一種\n",
      "請輸入剪刀石頭或布!!石頭\n",
      "我出布\n",
      "你輸了\n"
     ]
    }
   ],
   "source": [
    "from random import random\n",
    "while True : \n",
    "        print(\"猜拳大賽開始\")\n",
    "        print(\"輸入剪刀石頭布三種其中一種\")\n",
    "        mora = int(random()*3)+1\n",
    "        dic = {1: \"剪刀\",2: \"石頭\",3: \"布\"}\n",
    "        dicPlayer = {\"剪刀\": 1, \"石頭\": 2, \"布\": 3, }\n",
    "        yourChoise = input(\"請輸入剪刀石頭或布!!\")\n",
    "        choise = int(dicPlayer[yourChoise])\n",
    "        print(\"我出\"+dic[mora])\n",
    "        if choise == mora :\n",
    "            print(\"\")\n",
    "            print(\"此回平手\")\n",
    "            break\n",
    "        elif choise == 3 & mora == 1:\n",
    "            print(\"你輸了\")\n",
    "            break\n",
    "        elif choise ==1 & mora == 3:\n",
    "            print(\"hahaha\")\n",
    "            print(\"你贏了\")\n",
    "            break\n",
    "        elif choise > mora :\n",
    "            print(\"你贏了\")\n",
    "            break\n",
    "        else :\n",
    "            print(\"你輸了\")\n",
    "            break"
   ]
  },
  {
   "cell_type": "code",
   "execution_count": null,
   "metadata": {},
   "outputs": [],
   "source": []
  }
 ],
 "metadata": {
  "kernelspec": {
   "display_name": "Python 3",
   "language": "python",
   "name": "python3"
  },
  "language_info": {
   "codemirror_mode": {
    "name": "ipython",
    "version": 3
   },
   "file_extension": ".py",
   "mimetype": "text/x-python",
   "name": "python",
   "nbconvert_exporter": "python",
   "pygments_lexer": "ipython3",
   "version": "3.7.4"
  }
 },
 "nbformat": 4,
 "nbformat_minor": 2
}
