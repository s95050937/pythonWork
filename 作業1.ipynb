{
 "nbformat": 4,
 "nbformat_minor": 2,
 "metadata": {
  "language_info": {
   "name": "python",
   "codemirror_mode": {
    "name": "ipython",
    "version": 3
   },
   "version": "3.7.4-final"
  },
  "orig_nbformat": 2,
  "file_extension": ".py",
  "mimetype": "text/x-python",
  "name": "python",
  "npconvert_exporter": "python",
  "pygments_lexer": "ipython3",
  "version": 3,
  "kernelspec": {
   "name": "python37432bita10c2324d3fe43038375b8669bedfcba",
   "display_name": "Python 3.7.4 32-bit"
  }
 },
 "cells": [
  {
   "cell_type": "code",
   "execution_count": 1,
   "metadata": {},
   "outputs": [
    {
     "name": "stdout",
     "output_type": "stream",
     "text": "你猜對了!\n"
    }
   ],
   "source": [
    "# num1 = 10\n",
    "# if num1==10 : \n",
    "#     print(\"haha\")\n",
    "# a = int(input(\"請輸入數字\"))\n",
    "# if a==10 :\n",
    "#     print(\"你猜對了!\")\n",
    "\n",
    "from random import random\n",
    "num1 = int((random())*10)\n",
    "while True :\n",
    "    num2 = int(input(\"請猜一個1到100的數字\"))\n",
    "    if num1 == num2 : \n",
    "        print(\"你猜對了!\")\n",
    "        break\n",
    "    \n",
    "\n",
    "\n",
    "\n",
    "\n",
    "\n",
    "\n",
    "\n",
    "\n",
    "\n"
   ]
  },
  {
   "cell_type": "code",
   "execution_count": null,
   "metadata": {},
   "outputs": [],
   "source": []
  }
 ]
}