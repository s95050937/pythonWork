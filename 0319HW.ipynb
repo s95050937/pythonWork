{
  "nbformat": 4,
  "nbformat_minor": 0,
  "metadata": {
    "colab": {
      "name": "0319HM.ipynb",
      "provenance": [],
      "collapsed_sections": [],
      "toc_visible": true
    },
    "kernelspec": {
      "name": "python3",
      "display_name": "Python 3"
    }
  },
  "cells": [
    {
      "cell_type": "code",
      "metadata": {
        "id": "RidFZDFa7ymZ",
        "colab_type": "code",
        "colab": {}
      },
      "source": [
        "%tensorflow_version 2.x "
      ],
      "execution_count": 0,
      "outputs": []
    },
    {
      "cell_type": "code",
      "metadata": {
        "id": "6UPcIMDp78oC",
        "colab_type": "code",
        "colab": {}
      },
      "source": [
        "%matplotlib inline\n",
        "\n",
        "import numpy as np\n",
        "import matplotlib.pyplot as plt"
      ],
      "execution_count": 0,
      "outputs": []
    },
    {
      "cell_type": "code",
      "metadata": {
        "id": "EAMk-CTQ8O2m",
        "colab_type": "code",
        "colab": {}
      },
      "source": [
        "import tensorflow as tf"
      ],
      "execution_count": 0,
      "outputs": []
    },
    {
      "cell_type": "code",
      "metadata": {
        "id": "2Cwa147k8UiK",
        "colab_type": "code",
        "colab": {}
      },
      "source": [
        "from tensorflow.keras.datasets import fashion_mnist"
      ],
      "execution_count": 0,
      "outputs": []
    },
    {
      "cell_type": "code",
      "metadata": {
        "id": "ktZ414Py8W0y",
        "colab_type": "code",
        "colab": {}
      },
      "source": [
        "(x_train, y_train), (x_test, y_test) = fashion_mnist.load_data()"
      ],
      "execution_count": 0,
      "outputs": []
    },
    {
      "cell_type": "markdown",
      "metadata": {
        "id": "Uf_0_Hm-9MNt",
        "colab_type": "text"
      },
      "source": [
        "# 欣賞數據集資料\n"
      ]
    },
    {
      "cell_type": "code",
      "metadata": {
        "id": "BV2t2sGQ8ey_",
        "colab_type": "code",
        "colab": {
          "base_uri": "https://localhost:8080/",
          "height": 33
        },
        "outputId": "1357a0d3-7e12-45e7-d0d2-a719537c57a9"
      },
      "source": [
        "len(x_train)"
      ],
      "execution_count": 6,
      "outputs": [
        {
          "output_type": "execute_result",
          "data": {
            "text/plain": [
              "60000"
            ]
          },
          "metadata": {
            "tags": []
          },
          "execution_count": 6
        }
      ]
    },
    {
      "cell_type": "code",
      "metadata": {
        "id": "BLzBmH6285Gb",
        "colab_type": "code",
        "colab": {}
      },
      "source": [
        "class_names = ['T-shirt/top', 'Trouser', 'Pullover', 'Dress', 'Coat',\n",
        "               'Sandal', 'Shirt', 'Sneaker', 'Bag', 'Ankle boot']"
      ],
      "execution_count": 0,
      "outputs": []
    },
    {
      "cell_type": "code",
      "metadata": {
        "id": "NovX0Qqq93At",
        "colab_type": "code",
        "colab": {
          "base_uri": "https://localhost:8080/",
          "height": 298
        },
        "outputId": "4ccbfd7d-646e-4841-8b56-58e68ddfa892"
      },
      "source": [
        "n = 9527\n",
        "print(\"這個東西是\", class_names[y_train[n]])\n",
        "plt.imshow(x_train[n] , cmap=\"Greys\")\n"
      ],
      "execution_count": 8,
      "outputs": [
        {
          "output_type": "stream",
          "text": [
            "這個東西是 Trouser\n"
          ],
          "name": "stdout"
        },
        {
          "output_type": "execute_result",
          "data": {
            "text/plain": [
              "<matplotlib.image.AxesImage at 0x7f14bd8190f0>"
            ]
          },
          "metadata": {
            "tags": []
          },
          "execution_count": 8
        },
        {
          "output_type": "display_data",
          "data": {
            "image/png": "[encoded data removed]",
            "text/plain": [
              "<Figure size 432x288 with 1 Axes>"
            ]
          },
          "metadata": {
            "tags": []
          }
        }
      ]
    },
    {
      "cell_type": "code",
      "metadata": {
        "id": "E52BIW01-K1b",
        "colab_type": "code",
        "colab": {
          "base_uri": "https://localhost:8080/",
          "height": 145
        },
        "outputId": "4c0e4f76-8f5b-4489-e70a-736d76e69e4a"
      },
      "source": [
        "pick = np.random.choice(60000, 5, replace = False)\n",
        "plt.figure(figsize=(10,10))\n",
        "for i in range(5) : \n",
        "  n = pick[i]\n",
        "  ax = plt.subplot(151+i)\n",
        "  ax.set_xticks([])\n",
        "  ax.set_yticks([])\n",
        "  ax.set_title(class_names[y_train[n]], fontsize=10)\n",
        "  plt.imshow(x_train[n], cmap='Greys')  "
      ],
      "execution_count": 9,
      "outputs": [
        {
          "output_type": "display_data",
          "data": {
            "image/png": "[encoded data removed]",
            "text/plain": [
              "<Figure size 720x720 with 5 Axes>"
            ]
          },
          "metadata": {
            "tags": []
          }
        }
      ]
    },
    {
      "cell_type": "markdown",
      "metadata": {
        "id": "QcNm-b8GAaeL",
        "colab_type": "text"
      },
      "source": [
        "# 資料整理\n",
        "\n"
      ]
    },
    {
      "cell_type": "code",
      "metadata": {
        "id": "TNuuXrzkAfQb",
        "colab_type": "code",
        "colab": {}
      },
      "source": [
        "x_train = x_train / 255\n",
        "x_test = x_test / 255"
      ],
      "execution_count": 0,
      "outputs": []
    },
    {
      "cell_type": "code",
      "metadata": {
        "id": "YWlLgpjaAyfU",
        "colab_type": "code",
        "colab": {}
      },
      "source": [
        "x_train = x_train.reshape(60000, 784)\n",
        "x_test = x_test.reshape(10000, 784)"
      ],
      "execution_count": 0,
      "outputs": []
    },
    {
      "cell_type": "code",
      "metadata": {
        "id": "XmUGN1bACQf-",
        "colab_type": "code",
        "colab": {}
      },
      "source": [
        "from tensorflow.keras.utils import to_categorical\n",
        "y_train = to_categorical(y_train, 10)\n",
        "y_test = to_categorical(y_test, 10)"
      ],
      "execution_count": 0,
      "outputs": []
    },
    {
      "cell_type": "code",
      "metadata": {
        "id": "0D-uao3yC7JV",
        "colab_type": "code",
        "colab": {
          "base_uri": "https://localhost:8080/",
          "height": 33
        },
        "outputId": "169a4eb1-08c0-4118-ea3b-a6bf0ec4a0fb"
      },
      "source": [
        "y_train[0]"
      ],
      "execution_count": 13,
      "outputs": [
        {
          "output_type": "execute_result",
          "data": {
            "text/plain": [
              "array([0., 0., 0., 0., 0., 0., 0., 0., 0., 1.], dtype=float32)"
            ]
          },
          "metadata": {
            "tags": []
          },
          "execution_count": 13
        }
      ]
    },
    {
      "cell_type": "markdown",
      "metadata": {
        "id": "JDWBedQZDoKl",
        "colab_type": "text"
      },
      "source": [
        "# 打造神經網路"
      ]
    },
    {
      "cell_type": "code",
      "metadata": {
        "id": "T3l_vpRJDsxg",
        "colab_type": "code",
        "colab": {}
      },
      "source": [
        "from tensorflow.keras.models import Sequential\n",
        "from tensorflow.keras.layers import Dense\n",
        "from tensorflow.keras.optimizers import SGD"
      ],
      "execution_count": 0,
      "outputs": []
    },
    {
      "cell_type": "code",
      "metadata": {
        "id": "zW5XVtGXD_iG",
        "colab_type": "code",
        "colab": {}
      },
      "source": [
        "model= Sequential()"
      ],
      "execution_count": 0,
      "outputs": []
    },
    {
      "cell_type": "code",
      "metadata": {
        "id": "o88FNKASEMOh",
        "colab_type": "code",
        "colab": {}
      },
      "source": [
        "model.add(Dense(74, input_dim = 784 , activation='relu'))"
      ],
      "execution_count": 0,
      "outputs": []
    },
    {
      "cell_type": "code",
      "metadata": {
        "id": "8BeL796pEnQx",
        "colab_type": "code",
        "colab": {}
      },
      "source": [
        "model.add(Dense(90, activation='relu'))"
      ],
      "execution_count": 0,
      "outputs": []
    },
    {
      "cell_type": "code",
      "metadata": {
        "id": "xeiRAlGBEx2Q",
        "colab_type": "code",
        "colab": {}
      },
      "source": [
        "model.add(Dense(10, activation='softmax'))"
      ],
      "execution_count": 0,
      "outputs": []
    },
    {
      "cell_type": "code",
      "metadata": {
        "id": "CeyhxJ2PFMam",
        "colab_type": "code",
        "colab": {}
      },
      "source": [
        "model.compile(loss=\"mse\",optimizer=SGD(lr=0.072),metrics=[\"accuracy\"])"
      ],
      "execution_count": 0,
      "outputs": []
    },
    {
      "cell_type": "code",
      "metadata": {
        "id": "ATaFv3J6FsGN",
        "colab_type": "code",
        "colab": {
          "base_uri": "https://localhost:8080/",
          "height": 251
        },
        "outputId": "9016cfa5-9290-41c4-a037-303fa4c3e35b"
      },
      "source": [
        "model.summary()"
      ],
      "execution_count": 20,
      "outputs": [
        {
          "output_type": "stream",
          "text": [
            "Model: \"sequential\"\n",
            "_________________________________________________________________\n",
            "Layer (type)                 Output Shape              Param #   \n",
            "=================================================================\n",
            "dense (Dense)                (None, 74)                58090     \n",
            "_________________________________________________________________\n",
            "dense_1 (Dense)              (None, 90)                6750      \n",
            "_________________________________________________________________\n",
            "dense_2 (Dense)              (None, 10)                910       \n",
            "=================================================================\n",
            "Total params: 65,750\n",
            "Trainable params: 65,750\n",
            "Non-trainable params: 0\n",
            "_________________________________________________________________\n"
          ],
          "name": "stdout"
        }
      ]
    },
    {
      "cell_type": "markdown",
      "metadata": {
        "id": "-o9KEMWqF-0n",
        "colab_type": "text"
      },
      "source": [
        "# 訓練"
      ]
    },
    {
      "cell_type": "code",
      "metadata": {
        "id": "4njzV9LDGBfp",
        "colab_type": "code",
        "colab": {
          "base_uri": "https://localhost:8080/",
          "height": 870
        },
        "outputId": "ad512140-c791-4761-9270-b0c509a551f4"
      },
      "source": [
        "model.fit(x_train, y_train, batch_size=100, epochs=25)"
      ],
      "execution_count": 22,
      "outputs": [
        {
          "output_type": "stream",
          "text": [
            "Epoch 1/25\n",
            "600/600 [==============================] - 1s 2ms/step - loss: 0.0773 - accuracy: 0.3909\n",
            "Epoch 2/25\n",
            "600/600 [==============================] - 1s 2ms/step - loss: 0.0517 - accuracy: 0.6416\n",
            "Epoch 3/25\n",
            "600/600 [==============================] - 1s 2ms/step - loss: 0.0404 - accuracy: 0.7238\n",
            "Epoch 4/25\n",
            "600/600 [==============================] - 1s 2ms/step - loss: 0.0358 - accuracy: 0.7651\n",
            "Epoch 5/25\n",
            "600/600 [==============================] - 1s 2ms/step - loss: 0.0326 - accuracy: 0.7863\n",
            "Epoch 6/25\n",
            "600/600 [==============================] - 1s 2ms/step - loss: 0.0304 - accuracy: 0.8001\n",
            "Epoch 7/25\n",
            "600/600 [==============================] - 1s 2ms/step - loss: 0.0288 - accuracy: 0.8100\n",
            "Epoch 8/25\n",
            "600/600 [==============================] - 1s 2ms/step - loss: 0.0276 - accuracy: 0.8172\n",
            "Epoch 9/25\n",
            "600/600 [==============================] - 1s 2ms/step - loss: 0.0267 - accuracy: 0.8225\n",
            "Epoch 10/25\n",
            "600/600 [==============================] - 1s 2ms/step - loss: 0.0259 - accuracy: 0.8273\n",
            "Epoch 11/25\n",
            "600/600 [==============================] - 1s 2ms/step - loss: 0.0253 - accuracy: 0.8302\n",
            "Epoch 12/25\n",
            "600/600 [==============================] - 1s 2ms/step - loss: 0.0247 - accuracy: 0.8339\n",
            "Epoch 13/25\n",
            "600/600 [==============================] - 1s 2ms/step - loss: 0.0243 - accuracy: 0.8368\n",
            "Epoch 14/25\n",
            "600/600 [==============================] - 1s 2ms/step - loss: 0.0239 - accuracy: 0.8388\n",
            "Epoch 15/25\n",
            "600/600 [==============================] - 1s 2ms/step - loss: 0.0235 - accuracy: 0.8421\n",
            "Epoch 16/25\n",
            "600/600 [==============================] - 1s 2ms/step - loss: 0.0232 - accuracy: 0.8433\n",
            "Epoch 17/25\n",
            "600/600 [==============================] - 1s 2ms/step - loss: 0.0229 - accuracy: 0.8451\n",
            "Epoch 18/25\n",
            "600/600 [==============================] - 1s 2ms/step - loss: 0.0227 - accuracy: 0.8462\n",
            "Epoch 19/25\n",
            "600/600 [==============================] - 1s 2ms/step - loss: 0.0224 - accuracy: 0.8489\n",
            "Epoch 20/25\n",
            "600/600 [==============================] - 1s 2ms/step - loss: 0.0222 - accuracy: 0.8500\n",
            "Epoch 21/25\n",
            "600/600 [==============================] - 1s 2ms/step - loss: 0.0220 - accuracy: 0.8517\n",
            "Epoch 22/25\n",
            "600/600 [==============================] - 1s 2ms/step - loss: 0.0218 - accuracy: 0.8522\n",
            "Epoch 23/25\n",
            "600/600 [==============================] - 1s 2ms/step - loss: 0.0216 - accuracy: 0.8541\n",
            "Epoch 24/25\n",
            "600/600 [==============================] - 1s 2ms/step - loss: 0.0214 - accuracy: 0.8558\n",
            "Epoch 25/25\n",
            "600/600 [==============================] - 1s 2ms/step - loss: 0.0213 - accuracy: 0.8568\n"
          ],
          "name": "stdout"
        },
        {
          "output_type": "execute_result",
          "data": {
            "text/plain": [
              "<tensorflow.python.keras.callbacks.History at 0x7f14b6e5b5c0>"
            ]
          },
          "metadata": {
            "tags": []
          },
          "execution_count": 22
        }
      ]
    },
    {
      "cell_type": "markdown",
      "metadata": {
        "id": "8dDkYtNcGboa",
        "colab_type": "text"
      },
      "source": [
        "# 結果\n"
      ]
    },
    {
      "cell_type": "code",
      "metadata": {
        "id": "r6HURn6PGaT9",
        "colab_type": "code",
        "colab": {
          "base_uri": "https://localhost:8080/",
          "height": 87
        },
        "outputId": "85968659-1e38-47b7-c436-2a2143cc2872"
      },
      "source": [
        "result = model.predict_classes(x_test)"
      ],
      "execution_count": 23,
      "outputs": [
        {
          "output_type": "stream",
          "text": [
            "WARNING:tensorflow:From <ipython-input-23-63af5bb2f9b6>:1: Sequential.predict_classes (from tensorflow.python.keras.engine.sequential) is deprecated and will be removed after 2021-01-01.\n",
            "Instructions for updating:\n",
            "Please use instead:* `np.argmax(model.predict(x), axis=-1)`,   if your model does multi-class classification   (e.g. if it uses a `softmax` last-layer activation).* `(model.predict(x) > 0.5).astype(\"int32\")`,   if your model does binary classification   (e.g. if it uses a `sigmoid` last-layer activation).\n"
          ],
          "name": "stdout"
        }
      ]
    },
    {
      "cell_type": "code",
      "metadata": {
        "id": "A9ipFAJaGkiZ",
        "colab_type": "code",
        "colab": {
          "base_uri": "https://localhost:8080/",
          "height": 298
        },
        "outputId": "0cb09d47-c730-49ef-96db-1ff922a53148"
      },
      "source": [
        "n = 9259\n",
        "\n",
        "print(\"預測為:\" , class_names[result[n]])\n",
        "plt.imshow(x_test[n].reshape(28,28), cmap='Greys')"
      ],
      "execution_count": 29,
      "outputs": [
        {
          "output_type": "stream",
          "text": [
            "預測為: Pullover\n"
          ],
          "name": "stdout"
        },
        {
          "output_type": "execute_result",
          "data": {
            "text/plain": [
              "<matplotlib.image.AxesImage at 0x7f14b3d8fb38>"
            ]
          },
          "metadata": {
            "tags": []
          },
          "execution_count": 29
        },
        {
          "output_type": "display_data",
          "data": {
            "image/png": "[encoded data removed]",
            "text/plain": [
              "<Figure size 432x288 with 1 Axes>"
            ]
          },
          "metadata": {
            "tags": []
          }
        }
      ]
    },
    {
      "cell_type": "code",
      "metadata": {
        "id": "1SDgVce1G3yN",
        "colab_type": "code",
        "colab": {}
      },
      "source": [
        ""
      ],
      "execution_count": 0,
      "outputs": []
    }
  ]
}