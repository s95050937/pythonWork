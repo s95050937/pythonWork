{
 "cells": [
  {
   "cell_type": "code",
   "execution_count": 4,
   "metadata": {},
   "outputs": [
    {
     "name": "stdout",
     "output_type": "stream",
     "text": [
      "請輸入身高(m): 1.73\n",
      "請輸入體重(kg): 53\n",
      "您的BMI為： 17.71\n",
      "您的體重指標為: 偏瘦\n"
     ]
    }
   ],
   "source": [
    "height = float(input(\"請輸入身高(m): \"))\n",
    "weight = float(input(\"請輸入體重(kg): \"))\n",
    "BMI = weight / pow(height,2)\n",
    "print(\"您的BMI為： {:.2f}\".format(BMI))\n",
    "\n",
    "if BMI < 18.5:\n",
    "    fatDegree = \"偏瘦\"\n",
    "elif 18.5 <= BMI <25:\n",
    "    fatDegree = \"正常\"\n",
    "elif 25 <= BMI <= 30:\n",
    "    fatDegree =\"偏胖\"\n",
    "else:\n",
    "    fatDegree =\"肥胖\"\n",
    "print(\"您的體重指標為: {0}\".format(fatDegree))"
   ]
  },
  {
   "cell_type": "code",
   "execution_count": null,
   "metadata": {},
   "outputs": [],
   "source": []
  }
 ],
 "metadata": {
  "kernelspec": {
   "display_name": "Python 3",
   "language": "python",
   "name": "python3"
  },
  "language_info": {
   "codemirror_mode": {
    "name": "ipython",
    "version": 3
   },
   "file_extension": ".py",
   "mimetype": "text/x-python",
   "name": "python",
   "nbconvert_exporter": "python",
   "pygments_lexer": "ipython3",
   "version": "3.7.4"
  }
 },
 "nbformat": 4,
 "nbformat_minor": 2
}
