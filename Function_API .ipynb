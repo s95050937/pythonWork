{
  "nbformat": 4,
  "nbformat_minor": 0,
  "metadata": {
    "colab": {
      "name": "Function_API.ipynb",
      "provenance": []
    },
    "kernelspec": {
      "name": "python3",
      "display_name": "Python 3"
    },
    "accelerator": "GPU"
  },
  "cells": [
    {
      "cell_type": "markdown",
      "metadata": {
        "id": "xMSY725r33HR",
        "colab_type": "text"
      },
      "source": [
        "\n",
        "\n",
        "> ## 準備\n",
        "\n",
        "\n"
      ]
    },
    {
      "cell_type": "code",
      "metadata": {
        "id": "Tgr-2pcR1iLh",
        "colab_type": "code",
        "colab": {}
      },
      "source": [
        "%tensorflow_version 2.x"
      ],
      "execution_count": 0,
      "outputs": []
    },
    {
      "cell_type": "code",
      "metadata": {
        "id": "lXzY3T_n1vZn",
        "colab_type": "code",
        "colab": {}
      },
      "source": [
        "%matplotlib inline\n",
        "import numpy as np\n",
        "import tensorflow as tf\n",
        "import matplotlib.pyplot as plt\n",
        "\n",
        "from tensorflow.keras.datasets import fashion_mnist\n",
        "\n",
        "from tensorflow.keras.models import Sequential\n",
        "from tensorflow.keras.layers import Conv2D, MaxPooling2D, Dropout\n",
        "from tensorflow.keras.layers import Dense, Flatten\n"
      ],
      "execution_count": 0,
      "outputs": []
    },
    {
      "cell_type": "code",
      "metadata": {
        "id": "434EuHM53Hm1",
        "colab_type": "code",
        "colab": {}
      },
      "source": [
        "from tensorflow.keras.optimizers import SGD, Adam\n",
        "\n",
        "from tensorflow.keras.models import Model\n",
        "from tensorflow.keras.layers import Input\n",
        "from tensorflow.keras.layers import concatenate, add"
      ],
      "execution_count": 0,
      "outputs": []
    },
    {
      "cell_type": "markdown",
      "metadata": {
        "id": "FnCqJkx238KQ",
        "colab_type": "text"
      },
      "source": [
        "## 導入數據\n"
      ]
    },
    {
      "cell_type": "code",
      "metadata": {
        "id": "MmJSx3Yn3x8d",
        "colab_type": "code",
        "colab": {}
      },
      "source": [
        "\n",
        "(x_train, y_train), (x_test, y_test) = fashion_mnist.load_data()\n",
        "\n",
        "x_train = x_train.reshape(-1, 28*28 )\n",
        "x_test = x_test.reshape(-1, 28*28 )\n",
        "\n",
        "x_train = x_train / x_train.max()\n",
        "x_test = x_test / x_test.max()\n",
        "\n",
        "from tensorflow.keras.utils import to_categorical\n",
        "y_train = to_categorical(y_train, 10)\n",
        "y_test = to_categorical(y_test, 10)\n"
      ],
      "execution_count": 0,
      "outputs": []
    },
    {
      "cell_type": "markdown",
      "metadata": {
        "id": "SMX-cqt_5hCe",
        "colab_type": "text"
      },
      "source": [
        "## Function API\n",
        "\n"
      ]
    },
    {
      "cell_type": "code",
      "metadata": {
        "id": "DuEcHi6U4Jp8",
        "colab_type": "code",
        "colab": {}
      },
      "source": [
        "# 流程\n",
        "# 784 -f1-> 450 -f2-> 150 --  250 -f4-> 10\n",
        "#               -f3-> 100 -- (con)\n",
        "\n",
        "f_1 = Dense(450, activation='relu')\n",
        "f_2 = Dense(150, activation='relu')\n",
        "f_3 = Dense(100, activation='sigmoid')\n",
        "f_4 = Dense(10, activation='softmax')"
      ],
      "execution_count": 0,
      "outputs": []
    },
    {
      "cell_type": "code",
      "metadata": {
        "id": "DOridgrc96_d",
        "colab_type": "code",
        "colab": {}
      },
      "source": [
        "x = Input(shape=(784,))"
      ],
      "execution_count": 0,
      "outputs": []
    },
    {
      "cell_type": "code",
      "metadata": {
        "id": "qfIxtXMu-BNW",
        "colab_type": "code",
        "colab": {}
      },
      "source": [
        "h_1 = f_1(x)\n",
        "h_2_1 = f_2(h_1)\n",
        "h_2_2 = f_3(h_1)\n",
        "h_3 = concatenate([h_2_1, h_2_2])\n",
        "y = f_4(h_3)"
      ],
      "execution_count": 0,
      "outputs": []
    },
    {
      "cell_type": "code",
      "metadata": {
        "id": "bzjicC8L_D7z",
        "colab_type": "code",
        "colab": {
          "base_uri": "https://localhost:8080/",
          "height": 368
        },
        "outputId": "4c774a9d-89e1-42ca-f598-2bc3836045e7"
      },
      "source": [
        "model = Model(x, y)\n",
        "model.summary()"
      ],
      "execution_count": 9,
      "outputs": [
        {
          "output_type": "stream",
          "text": [
            "Model: \"model\"\n",
            "__________________________________________________________________________________________________\n",
            "Layer (type)                    Output Shape         Param #     Connected to                     \n",
            "==================================================================================================\n",
            "input_1 (InputLayer)            [(None, 784)]        0                                            \n",
            "__________________________________________________________________________________________________\n",
            "dense (Dense)                   (None, 450)          353250      input_1[0][0]                    \n",
            "__________________________________________________________________________________________________\n",
            "dense_1 (Dense)                 (None, 150)          67650       dense[0][0]                      \n",
            "__________________________________________________________________________________________________\n",
            "dense_2 (Dense)                 (None, 100)          45100       dense[0][0]                      \n",
            "__________________________________________________________________________________________________\n",
            "concatenate (Concatenate)       (None, 250)          0           dense_1[0][0]                    \n",
            "                                                                 dense_2[0][0]                    \n",
            "__________________________________________________________________________________________________\n",
            "dense_3 (Dense)                 (None, 10)           2510        concatenate[0][0]                \n",
            "==================================================================================================\n",
            "Total params: 468,510\n",
            "Trainable params: 468,510\n",
            "Non-trainable params: 0\n",
            "__________________________________________________________________________________________________\n"
          ],
          "name": "stdout"
        }
      ]
    },
    {
      "cell_type": "code",
      "metadata": {
        "id": "3aBNhKoZ_Io2",
        "colab_type": "code",
        "colab": {}
      },
      "source": [
        "model.compile(loss='mse', optimizer=Adam(), metrics=['accuracy'])"
      ],
      "execution_count": 0,
      "outputs": []
    },
    {
      "cell_type": "code",
      "metadata": {
        "id": "0Qzu0d0-_SeX",
        "colab_type": "code",
        "colab": {
          "base_uri": "https://localhost:8080/",
          "height": 301
        },
        "outputId": "03297a5a-d6b1-491a-ee20-07d01e9a0acc"
      },
      "source": [
        "model.fit(x_train, y_train, batch_size = 800, epochs = 8, validation_data=(x_test, y_test))"
      ],
      "execution_count": 11,
      "outputs": [
        {
          "output_type": "stream",
          "text": [
            "Epoch 1/8\n",
            "75/75 [==============================] - 0s 6ms/step - loss: 0.0333 - accuracy: 0.7614 - val_loss: 0.0252 - val_accuracy: 0.8280\n",
            "Epoch 2/8\n",
            "75/75 [==============================] - 0s 4ms/step - loss: 0.0216 - accuracy: 0.8523 - val_loss: 0.0211 - val_accuracy: 0.8540\n",
            "Epoch 3/8\n",
            "75/75 [==============================] - 0s 4ms/step - loss: 0.0196 - accuracy: 0.8665 - val_loss: 0.0207 - val_accuracy: 0.8586\n",
            "Epoch 4/8\n",
            "75/75 [==============================] - 0s 4ms/step - loss: 0.0178 - accuracy: 0.8802 - val_loss: 0.0189 - val_accuracy: 0.8715\n",
            "Epoch 5/8\n",
            "75/75 [==============================] - 0s 4ms/step - loss: 0.0169 - accuracy: 0.8847 - val_loss: 0.0190 - val_accuracy: 0.8699\n",
            "Epoch 6/8\n",
            "75/75 [==============================] - 0s 4ms/step - loss: 0.0161 - accuracy: 0.8913 - val_loss: 0.0193 - val_accuracy: 0.8683\n",
            "Epoch 7/8\n",
            "75/75 [==============================] - 0s 4ms/step - loss: 0.0156 - accuracy: 0.8954 - val_loss: 0.0176 - val_accuracy: 0.8781\n",
            "Epoch 8/8\n",
            "75/75 [==============================] - 0s 4ms/step - loss: 0.0146 - accuracy: 0.9019 - val_loss: 0.0181 - val_accuracy: 0.8745\n"
          ],
          "name": "stdout"
        },
        {
          "output_type": "execute_result",
          "data": {
            "text/plain": [
              "<tensorflow.python.keras.callbacks.History at 0x7f22b53dd710>"
            ]
          },
          "metadata": {
            "tags": []
          },
          "execution_count": 11
        }
      ]
    },
    {
      "cell_type": "code",
      "metadata": {
        "id": "ThLBBvpU_bSO",
        "colab_type": "code",
        "colab": {
          "base_uri": "https://localhost:8080/",
          "height": 67
        },
        "outputId": "a1642519-7f56-4854-c691-227eea12bac3"
      },
      "source": [
        "score = model.evaluate(x_train, y_train, batch_size=10000)\n",
        "print(f'Loss: {score[0]}')\n",
        "print(f'準確率: {score[1]*100}')"
      ],
      "execution_count": 13,
      "outputs": [
        {
          "output_type": "stream",
          "text": [
            "6/6 [==============================] - 0s 12ms/step - loss: 0.0143 - accuracy: 0.9044\n",
            "Loss: 0.014277908019721508\n",
            "準確率: 90.4449999332428\n"
          ],
          "name": "stdout"
        }
      ]
    },
    {
      "cell_type": "code",
      "metadata": {
        "id": "3ed1qYHJBrLv",
        "colab_type": "code",
        "colab": {}
      },
      "source": [
        ""
      ],
      "execution_count": 0,
      "outputs": []
    }
  ]
}